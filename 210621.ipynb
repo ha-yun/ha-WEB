{
  "nbformat": 4,
  "nbformat_minor": 0,
  "metadata": {
    "colab": {
      "name": "210621.ipynb",
      "provenance": [],
      "collapsed_sections": [],
      "authorship_tag": "ABX9TyOwfaCrvt0LbCwQXJeAEdOc",
      "include_colab_link": true
    },
    "kernelspec": {
      "name": "python3",
      "display_name": "Python 3"
    },
    "language_info": {
      "name": "python"
    }
  },
  "cells": [
    {
      "cell_type": "markdown",
      "metadata": {
        "id": "view-in-github",
        "colab_type": "text"
      },
      "source": [
        "<a href=\"https://colab.research.google.com/github/yun-aha/ha-WEB/blob/main/210621.ipynb\" target=\"_parent\"><img src=\"https://colab.research.google.com/assets/colab-badge.svg\" alt=\"Open In Colab\"/></a>"
      ]
    },
    {
      "cell_type": "markdown",
      "metadata": {
        "id": "lmLWfrN760a6"
      },
      "source": [
        "* Positional Arguments 위치기반 매개변수\n",
        "매개변수가 많아진다면? 각 순서의 변수가 무엇을 의미하는지 기억하기 어려움\n",
        "** 변수에 이름을 붙여주면 keyword \n",
        "** 키워드 기반 매개변수 keyword arguments\n",
        "(주의사항 : 순서대로)\n"
      ]
    },
    {
      "cell_type": "code",
      "metadata": {
        "colab": {
          "base_uri": "https://localhost:8080/"
        },
        "id": "5aCSmY3u6QIi",
        "outputId": "4663263a-5408-40c7-fa61-60f7c2ea123b"
      },
      "source": [
        "name='현정'\n",
        "price=9999\n",
        "additional_data='추가데이터'\n",
        "temporary_data=10.0\n",
        "options=['옵션1','옵션2','옵션3']\n",
        "data='1999/9/9'\n",
        "def checkout(name,price,additional_data,temporary_data,options,data):\n",
        "  print(name)\n",
        "  print(price)\n",
        "  print(additional_data)\n",
        "  print(temporary_data)\n",
        "  print(options)\n",
        "  print(data)\n",
        "checkout(name,price,additional_data,temporary_data,options,data)"
      ],
      "execution_count": null,
      "outputs": [
        {
          "output_type": "stream",
          "text": [
            "현정\n",
            "9999\n",
            "추가데이터\n",
            "10.0\n",
            "['옵션1', '옵션2', '옵션3']\n",
            "1999/9/9\n"
          ],
          "name": "stdout"
        }
      ]
    },
    {
      "cell_type": "markdown",
      "metadata": {
        "id": "IwuhAEQN9Ixv"
      },
      "source": [
        "<p>Optional Data</p>\n",
        "평소 사용하지 않지만 가끔 사용할 때가 있는 경우\n",
        "함수에는 선언되어 있지 않은데, 입력에는 넣은 경우\n",
        "<p>*args</p> \n",
        "- class 'tuple'\n",
        "\n"
      ]
    },
    {
      "cell_type": "code",
      "metadata": {
        "colab": {
          "base_uri": "https://localhost:8080/"
        },
        "id": "GikoEpa68uQ8",
        "outputId": "a27eaa2f-288e-4a2a-d106-f90cf8a9470b"
      },
      "source": [
        "name='현정'\n",
        "price=9999\n",
        "additional_data='추가데이터'\n",
        "temporary_data=10.0\n",
        "options=['옵션1','옵션2','옵션3']\n",
        "data='1999/9/9'\n",
        "def checkout2(name,*args):\n",
        "  print(name)\n",
        "  for arg in args:\n",
        "    print(arg)\n",
        "  print(len(args))\n",
        "checkout2(name,price,additional_data,temporary_data,options,data)"
      ],
      "execution_count": null,
      "outputs": [
        {
          "output_type": "stream",
          "text": [
            "현정\n",
            "9999\n",
            "추가데이터\n",
            "10.0\n",
            "['옵션1', '옵션2', '옵션3']\n",
            "1999/9/9\n",
            "5\n"
          ],
          "name": "stdout"
        }
      ]
    },
    {
      "cell_type": "markdown",
      "metadata": {
        "id": "1O4Jnr9eARoA"
      },
      "source": [
        "<p>keyword arguments + optional data</p>\n",
        "**kwargs  -> class'dict'"
      ]
    },
    {
      "cell_type": "code",
      "metadata": {
        "colab": {
          "base_uri": "https://localhost:8080/"
        },
        "id": "yCFvjQrE_9av",
        "outputId": "83760dfc-0019-4f8c-8831-564347ef70db"
      },
      "source": [
        "name='현정'\n",
        "def checkout3(name,**kwargs):\n",
        "  print(name)\n",
        "  print(kwargs.keys())\n",
        "  print(kwargs.values())\n",
        "  print(len(kwargs))\n",
        "checkout3(name,prcie=9999,additional_data='추가데이터',temporary_data=10.0,\n",
        "          options=['옵션1','옵션2','옵션3'],data='1999/9/9')\n"
      ],
      "execution_count": null,
      "outputs": [
        {
          "output_type": "stream",
          "text": [
            "현정\n",
            "dict_keys(['prcie', 'additional_data', 'temporary_data', 'options', 'data'])\n",
            "dict_values([9999, '추가데이터', 10.0, ['옵션1', '옵션2', '옵션3'], '1999/9/9'])\n",
            "5\n"
          ],
          "name": "stdout"
        }
      ]
    },
    {
      "cell_type": "code",
      "metadata": {
        "colab": {
          "base_uri": "https://localhost:8080/"
        },
        "id": "_NZ5lDIMBkSh",
        "outputId": "fa274e75-e0d8-49a8-c3d5-7ae523f153b8"
      },
      "source": [
        "name='현정'\n",
        "price=9999\n",
        "additional_data='추가데이터'\n",
        "temporary_data=10.0\n",
        "options=['옵션1','옵션2','옵션3']\n",
        "data='1999/9/9'\n",
        "def checkout4(name,*args,**kwargs):\n",
        "  print(name)\n",
        "  for arg in args:\n",
        "    print(arg)\n",
        "  for kwa in kwargs:\n",
        "    print(kwa)\n",
        "  print(kwargs.keys())\n",
        "  print(kwargs.values())\n",
        "checkout4(name,price,additional_data,temporary_data,options,data='1999/9/9')"
      ],
      "execution_count": null,
      "outputs": [
        {
          "output_type": "stream",
          "text": [
            "현정\n",
            "9999\n",
            "추가데이터\n",
            "10.0\n",
            "['옵션1', '옵션2', '옵션3']\n",
            "data\n",
            "dict_keys(['data'])\n",
            "dict_values(['1999/9/9'])\n"
          ],
          "name": "stdout"
        }
      ]
    },
    {
      "cell_type": "code",
      "metadata": {
        "colab": {
          "base_uri": "https://localhost:8080/"
        },
        "id": "JBTjckeHCXI7",
        "outputId": "e212e3ac-21b6-415d-c55e-4bee0a3e9b4e"
      },
      "source": [
        "name='현정'\n",
        "price=9999\n",
        "additional_data='추가데이터'\n",
        "def checkout5(*args,**kwargs):\n",
        "  for arg in args:\n",
        "    print(arg)\n",
        "  for kwa, rgs in kwargs.items():\n",
        "    print(f'key:{kwa} / value:{rgs}')\n",
        "checkout5(name, price, additional_data,temporary_data=10.0, \n",
        "          options=['옵션1','옵션2','옵션3'], data='1999/9/9')"
      ],
      "execution_count": null,
      "outputs": [
        {
          "output_type": "stream",
          "text": [
            "현정\n",
            "9999\n",
            "추가데이터\n",
            "key:temporary_data / value:10.0\n",
            "key:options / value:['옵션1', '옵션2', '옵션3']\n",
            "key:data / value:1999/9/9\n"
          ],
          "name": "stdout"
        }
      ]
    },
    {
      "cell_type": "markdown",
      "metadata": {
        "id": "jIuFntDTKsQI"
      },
      "source": [
        "<h1><b> < Class ></b></h1>\n",
        "Programming : 문제를 해결하기 위하여 그 처리방법과 순서를 기술\n",
        "<p>\n",
        "1. 절차지향 PP (C)\n",
        "2. 객체지향 OPP (Java,python, C++,...)\n",
        "지향한다는 것, 강제x\n",
        "</p>\n",
        "절차지향 -> 객체지향의 차이점 : Class\n"
      ]
    },
    {
      "cell_type": "code",
      "metadata": {
        "colab": {
          "base_uri": "https://localhost:8080/"
        },
        "id": "4CGAQ5yYIijD",
        "outputId": "1983ee83-07c3-43d7-9bf0-7e6cdf76bc63"
      },
      "source": [
        "# 절차지향-장바구니 기능 구현\n",
        "name='현'\n",
        "total=0\n",
        "while True:\n",
        "  say=input()\n",
        "  if say=='사과':\n",
        "    total+=300\n",
        "  elif say=='바나나':\n",
        "    total+=680\n",
        "  elif say=='블루베리':\n",
        "    total+=1910\n",
        "  else:\n",
        "    break\n",
        "print(name,total)\n",
        "\n",
        "#\n",
        "customer='감쟈'\n",
        "cart=[]\n",
        "total_price=0\n",
        "cart.append(('사과',300))\n",
        "total_price+=300\n",
        "cart.append(('바나나',680))\n",
        "total_price+=680\n",
        "cart.append(('블루베리',1910))\n",
        "total_price+=1910\n",
        "print(f'{customer}님, 총 {total_price}주문완료.')\n",
        "\n",
        "total_price=0\n",
        "cart.clear()\n"
      ],
      "execution_count": null,
      "outputs": [
        {
          "output_type": "stream",
          "text": [
            "아악\n",
            "현 0\n",
            "감쟈님, 총 2890주문완료.\n"
          ],
          "name": "stdout"
        }
      ]
    },
    {
      "cell_type": "code",
      "metadata": {
        "colab": {
          "base_uri": "https://localhost:8080/"
        },
        "id": "JgJX6uoyNKAo",
        "outputId": "30220efd-03ea-4be9-b549-2f194a982b9b"
      },
      "source": [
        "class Cart:\n",
        "  def __init__(self,user):\n",
        "    self.user=user\n",
        "    self.total=0\n",
        "    self.cart_list=[]\n",
        "  def add_item(self,item):\n",
        "    self.cart_list.append(item)\n",
        "    self.total+=item.price\n",
        "  def checkout(self):\n",
        "    print(f'{self.user}님 총 금액{self.total}주문완료.')\n",
        "    self.total=0\n",
        "    self.cart_list.clear()\n",
        "\n",
        "class Item:\n",
        "  def __init__(self,name,price):\n",
        "    self.name=name\n",
        "    self.price=price\n",
        "  \n",
        "cart=Cart('현')\n",
        "cart.add_item(Item('사과',300))\n",
        "cart.add_item(Item('블루베리',1910))\n",
        "cart.add_item(Item('바나나',680))\n",
        "cart.checkout()"
      ],
      "execution_count": null,
      "outputs": [
        {
          "output_type": "stream",
          "text": [
            "현님 총 금액2890주문완료.\n"
          ],
          "name": "stdout"
        }
      ]
    },
    {
      "cell_type": "code",
      "metadata": {
        "colab": {
          "base_uri": "https://localhost:8080/"
        },
        "id": "R5wOkOziPG1p",
        "outputId": "267a4cd4-d935-4ac8-b00e-5f29de969e6f"
      },
      "source": [
        "customer1='A'\n",
        "customer2='B'\n",
        "cart1=[]\n",
        "fruit1=[]\n",
        "cart2=[]\n",
        "total1,total2=0,0\n",
        "fresh1,fresh2=0,0\n",
        "cart1.append('사과')\n",
        "fruit1.append('사과')\n",
        "total1+=300\n",
        "fresh1+=9\n",
        "cart1.append('바나나')\n",
        "fruit1.append('바나나')\n",
        "total1+=680\n",
        "fresh1+=4\n",
        "cart1.append('블루베리')\n",
        "fruit1.append('블루베리')\n",
        "total1+=1910\n",
        "fresh1+=7\n",
        "cart1.append('볼펜')\n",
        "total1+=1100\n",
        "cart1.append('소파')\n",
        "total1+=39800\n",
        "cart2.append('바나나')\n",
        "total2+=680\n",
        "cart2.append('사과')\n",
        "total2+=300\n",
        "print(f'{customer1}님 {total1}원 주문완료.')\n",
        "print(f'{customer1}님 신선도는 {fresh1/len(fruit1)}')\n",
        "\n"
      ],
      "execution_count": null,
      "outputs": [
        {
          "output_type": "stream",
          "text": [
            "A님 43790원 주문완료.\n",
            "A님 신선도는 6.666666666666667\n"
          ],
          "name": "stdout"
        }
      ]
    },
    {
      "cell_type": "code",
      "metadata": {
        "colab": {
          "base_uri": "https://localhost:8080/"
        },
        "id": "6OgS4xmMVfi2",
        "outputId": "2d4b7a85-5bd6-47b1-93c2-a7461ca4a4bd"
      },
      "source": [
        "class Cart2:\n",
        "  def __init__(self,customer):\n",
        "    self.customer=customer\n",
        "    self.total=0\n",
        "    self.fresh_list=[]\n",
        "    self.fresh_total=0\n",
        "  def add_item(self,item):\n",
        "    if item.name in ['바나나','사과','블루베리']:\n",
        "      self.fresh_list.append(item)\n",
        "      self.fresh_total+=item.fresh\n",
        "    self.total+=item.price\n",
        "  def checkout(self):\n",
        "    print(f'{self.customer}님 총 금액{self.total}주문완료.')\n",
        "    if self.fresh_total!=0:\n",
        "      print(f'{self.customer}님 신선도는 {self.fresh_total/len(self.fresh_list)}')\n",
        "    self.total=0\n",
        "    self.fresh_list.clear()\n",
        "    self.fresh_total=0\n",
        "\n",
        "class Item:\n",
        "  def __init__(self,name,price,fresh):\n",
        "    self.name=name\n",
        "    self.price=price\n",
        "    self.fresh=fresh\n",
        "\n",
        "cart1=Cart2('A')\n",
        "cart2=Cart2('B')\n",
        "cart1.add_item(Item('사과',300,9))\n",
        "cart1.add_item(Item('블루베리',1910,7))\n",
        "cart1.add_item(Item('바나나',680,4))\n",
        "cart1.add_item(Item('볼펜',1100,0))\n",
        "cart1.add_item(Item('소파',39800,0))\n",
        "cart2.add_item(Item('사과',300,9))\n",
        "cart2.add_item(Item('바나나',680,4))\n",
        "cart1.checkout()\n",
        "\n",
        "\n",
        "#isinstance함수 isinstance(object,class)\n",
        "# 1번째 object가 class에 있는지.? bool값으로 출력\n",
        "\n",
        "#프로그램 순서와 자료구조 분리"
      ],
      "execution_count": null,
      "outputs": [
        {
          "output_type": "stream",
          "text": [
            "A님 총 금액43790주문완료.\n",
            "A님 신선도는 6.666666666666667\n"
          ],
          "name": "stdout"
        }
      ]
    },
    {
      "cell_type": "markdown",
      "metadata": {
        "id": "t2NT7bqwbBAB"
      },
      "source": [
        "절차지향 순서와 절차를 먼저 ///\n",
        "객체지향 사물 혹은 물체의 기능들을 먼저 설계"
      ]
    },
    {
      "cell_type": "code",
      "metadata": {
        "colab": {
          "base_uri": "https://localhost:8080/"
        },
        "id": "TbB1aheWYDok",
        "outputId": "4a06390d-6a7a-4fdd-cd78-9c6a0809cea7"
      },
      "source": [
        "class Phone:\n",
        "  def __init__(self,**kwargs):\n",
        "    self.user=kwargs['user']\n",
        "    self.number=kwargs['number']\n",
        "    self.net=kwargs['net']\n",
        "    self.s_number=kwargs['s_number']\n",
        "  def On(self):\n",
        "    print(f'사용자 : {self.user} - 통신사 : {self.net} 핸드폰 켜지는 중')\n",
        "    print(f'번호 : {self.number}')\n",
        "  def call(self,tem):\n",
        "    print(f'{tem} 전화거는중')\n",
        "  def message(self,tem):\n",
        "    print(f'{tem} 문자전송')\n",
        "  def Off(self):\n",
        "    print(f'전원을 종료합니다')\n",
        "\n",
        "phone=Phone(user='현',number='010-999-9999',net='LG',s_number='123')\n",
        "phone.On()\n",
        "phone.call('010-111-1111')\n",
        "phone.message('010-990-9099')\n",
        "phone.Off()\n",
        "\n",
        "print('-----------------------------')\n",
        "\n",
        "class Smartphone(Phone):\n",
        "  def __init__(self,**kwargs):\n",
        "    super().__init__(**kwargs)\n",
        "    self.os=kwargs['os']\n",
        "  def On(self):\n",
        "    print(f'{self.user},{self.number}')\n",
        "  def write(self,tem):\n",
        "    with open('smartphone.txt','w') as f:\n",
        "      f.write(tem)\n",
        "    print(f'입력중')\n",
        "  def read(self):\n",
        "    with open('smartphone.txt','r') as f:\n",
        "      line=f.read()\n",
        "      print(line)\n",
        "  \n",
        "phone2=Smartphone(user='현',number='010-999-9999',net='LG',s_number='123',os='LTE')\n",
        "phone2.On()\n",
        "phone2.write('가나다라마바사')\n",
        "phone2.read()\n",
        "    "
      ],
      "execution_count": null,
      "outputs": [
        {
          "output_type": "stream",
          "text": [
            "사용자 : 현 - 통신사 : LG 핸드폰 켜지는 중\n",
            "번호 : 010-999-9999\n",
            "010-111-1111 전화거는중\n",
            "010-990-9099 문자전송\n",
            "전원을 종료합니다\n",
            "-----------------------------\n",
            "현,010-999-9999\n",
            "입력중\n",
            "가나다라마바사\n"
          ],
          "name": "stdout"
        }
      ]
    },
    {
      "cell_type": "markdown",
      "metadata": {
        "id": "rmPN6RyYmC1r"
      },
      "source": [
        "<h><b>파일 읽기 예제-Html 소스 분석</b></h>\n"
      ]
    },
    {
      "cell_type": "code",
      "metadata": {
        "colab": {
          "base_uri": "https://localhost:8080/"
        },
        "id": "ugByEf1vc1F7",
        "outputId": "38b9b155-5a1a-4c8f-d9eb-7e57a87fd471"
      },
      "source": [
        "with open('html_source.txt','r')as f:\n",
        "  line= f.read()\n",
        "  ha=line.split('<div class=\"inner_number\">')\n",
        "  ha.pop(0)\n",
        "for i in ha:\n",
        "  print(i.split('</div>')[0])\n",
        "#encoding='utf-8'"
      ],
      "execution_count": null,
      "outputs": [
        {
          "output_type": "stream",
          "text": [
            "223778\n",
            "223773\n",
            "223772\n",
            "223769\n",
            "223767\n",
            "223760\n",
            "223757\n",
            "223755\n",
            "223753\n",
            "223751\n",
            "223743\n",
            "223738\n",
            "223736\n",
            "223728\n",
            "223715\n"
          ],
          "name": "stdout"
        }
      ]
    },
    {
      "cell_type": "code",
      "metadata": {
        "colab": {
          "base_uri": "https://localhost:8080/"
        },
        "id": "hjv7Z9gcEAau",
        "outputId": "3b0fdc8b-b1c0-4548-bf81-e439e44d8960"
      },
      "source": [
        "f=open('html_source.txt','r',encoding='utf-8')\n",
        "temp=f.read()\n",
        "splitted=temp.split('<div class=\"inner_number\">')\n",
        "splitted.pop(0)\n",
        "for item in splitted:\n",
        "  print(item.split('</div>')[0])"
      ],
      "execution_count": null,
      "outputs": [
        {
          "output_type": "stream",
          "text": [
            "223778\n",
            "223773\n",
            "223772\n",
            "223769\n",
            "223767\n",
            "223760\n",
            "223757\n",
            "223755\n",
            "223753\n",
            "223751\n",
            "223743\n",
            "223738\n",
            "223736\n",
            "223728\n",
            "223715\n"
          ],
          "name": "stdout"
        }
      ]
    },
    {
      "cell_type": "code",
      "metadata": {
        "id": "qCTTAKBum1E_"
      },
      "source": [
        "from new_package import Phone,Smartphone\n"
      ],
      "execution_count": null,
      "outputs": []
    },
    {
      "cell_type": "markdown",
      "metadata": {
        "id": "5BPwoljeIsuZ"
      },
      "source": [
        "array는 정적 할당, list는 동적할당\n",
        "\n",
        "> (3,2,1), (2,5,3), (7,2), (2,4,3,2), (3,2,4,4)\n",
        "\n"
      ]
    },
    {
      "cell_type": "code",
      "metadata": {
        "colab": {
          "base_uri": "https://localhost:8080/"
        },
        "id": "5BD8OsvuJwVx",
        "outputId": "c8e481ac-4641-4a5d-cb98-09e996c30a94"
      },
      "source": [
        "import numpy as np\n",
        "temp=np.zeros((3,2,1))\n",
        "temp[2][0][0]=1\n",
        "print(temp)\n",
        "print('----------')\n",
        "temp2=np.zeros((2,5,3))\n",
        "temp2[0][3][1]=1\n",
        "print(temp2)\n",
        "print('================')\n",
        "temp3=np.zeros((7,2))\n",
        "temp3[1][0]=1\n",
        "print(temp3)"
      ],
      "execution_count": null,
      "outputs": [
        {
          "output_type": "stream",
          "text": [
            "[[[0.]\n",
            "  [0.]]\n",
            "\n",
            " [[0.]\n",
            "  [0.]]\n",
            "\n",
            " [[1.]\n",
            "  [0.]]]\n",
            "----------\n",
            "[[[0. 0. 0.]\n",
            "  [0. 0. 0.]\n",
            "  [0. 0. 0.]\n",
            "  [0. 1. 0.]\n",
            "  [0. 0. 0.]]\n",
            "\n",
            " [[0. 0. 0.]\n",
            "  [0. 0. 0.]\n",
            "  [0. 0. 0.]\n",
            "  [0. 0. 0.]\n",
            "  [0. 0. 0.]]]\n",
            "================\n",
            "[[0. 0.]\n",
            " [1. 0.]\n",
            " [0. 0.]\n",
            " [0. 0.]\n",
            " [0. 0.]\n",
            " [0. 0.]\n",
            " [0. 0.]]\n"
          ],
          "name": "stdout"
        }
      ]
    },
    {
      "cell_type": "code",
      "metadata": {
        "colab": {
          "base_uri": "https://localhost:8080/"
        },
        "id": "3_V_NQFcIZCg",
        "outputId": "9e403e30-04d2-42ae-e010-3e5f48172d6f"
      },
      "source": [
        "temp3=np.zeros((2,4,3,2))\n",
        "temp3[0][3][2][1]=1\n",
        "print(temp3)\n",
        "temp4=np.zeros((3,2,4,4))\n",
        "temp4[1][1][1][2]=1\n",
        "print(temp4)"
      ],
      "execution_count": null,
      "outputs": [
        {
          "output_type": "stream",
          "text": [
            "[[[[0. 0.]\n",
            "   [0. 0.]\n",
            "   [0. 0.]]\n",
            "\n",
            "  [[0. 0.]\n",
            "   [0. 0.]\n",
            "   [0. 0.]]\n",
            "\n",
            "  [[0. 0.]\n",
            "   [0. 0.]\n",
            "   [0. 0.]]\n",
            "\n",
            "  [[0. 0.]\n",
            "   [0. 0.]\n",
            "   [0. 1.]]]\n",
            "\n",
            "\n",
            " [[[0. 0.]\n",
            "   [0. 0.]\n",
            "   [0. 0.]]\n",
            "\n",
            "  [[0. 0.]\n",
            "   [0. 0.]\n",
            "   [0. 0.]]\n",
            "\n",
            "  [[0. 0.]\n",
            "   [0. 0.]\n",
            "   [0. 0.]]\n",
            "\n",
            "  [[0. 0.]\n",
            "   [0. 0.]\n",
            "   [0. 0.]]]]\n",
            "[[[[0. 0. 0. 0.]\n",
            "   [0. 0. 0. 0.]\n",
            "   [0. 0. 0. 0.]\n",
            "   [0. 0. 0. 0.]]\n",
            "\n",
            "  [[0. 0. 0. 0.]\n",
            "   [0. 0. 0. 0.]\n",
            "   [0. 0. 0. 0.]\n",
            "   [0. 0. 0. 0.]]]\n",
            "\n",
            "\n",
            " [[[0. 0. 0. 0.]\n",
            "   [0. 0. 0. 0.]\n",
            "   [0. 0. 0. 0.]\n",
            "   [0. 0. 0. 0.]]\n",
            "\n",
            "  [[0. 0. 0. 0.]\n",
            "   [0. 0. 1. 0.]\n",
            "   [0. 0. 0. 0.]\n",
            "   [0. 0. 0. 0.]]]\n",
            "\n",
            "\n",
            " [[[0. 0. 0. 0.]\n",
            "   [0. 0. 0. 0.]\n",
            "   [0. 0. 0. 0.]\n",
            "   [0. 0. 0. 0.]]\n",
            "\n",
            "  [[0. 0. 0. 0.]\n",
            "   [0. 0. 0. 0.]\n",
            "   [0. 0. 0. 0.]\n",
            "   [0. 0. 0. 0.]]]]\n"
          ],
          "name": "stdout"
        }
      ]
    },
    {
      "cell_type": "code",
      "metadata": {
        "colab": {
          "base_uri": "https://localhost:8080/"
        },
        "id": "RXd2MhczSRSC",
        "outputId": "adb1517f-da82-4052-d1dc-7828ee90ae00"
      },
      "source": [
        "arr=np.array([1,2,3])\n",
        "print(arr)\n",
        "\n",
        "arr2=np.array([(1,2,3),(4,5,6)])\n",
        "print(arr2)\n",
        "\n",
        "arr3=np.array([1,2],dtype=np.int64)\n",
        "print(arr3)\n",
        "print('------------------------------')\n",
        "arr4=np.zeros((3,3,3))\n",
        "print(arr4)\n",
        "\n",
        "arr5=np.zeros((2,3,5))\n",
        "print(arr5)\n",
        "print('-------*----------*-----------*---')\n",
        "arr6=np.ones((2,2,7))\n",
        "print(arr6)\n",
        "\n",
        "arr7=np.ones((2,5,5))\n",
        "print(arr7)\n",
        "print('=======================')\n",
        "arr8=np.array([[[0,1],[5,6],[4,3],[1,0]],[[0,1],[0,6],[5,4],[4,1]]])\n",
        "print(arr8)\n",
        "\n",
        "arr9=np.array([[[5,4,4,0],[3,6,1,4]],[[4,2,0,3],[4,5,6,6]]])\n",
        "print(arr9)"
      ],
      "execution_count": null,
      "outputs": [
        {
          "output_type": "stream",
          "text": [
            "[1 2 3]\n",
            "[[1 2 3]\n",
            " [4 5 6]]\n",
            "[1 2]\n",
            "------------------------------\n",
            "[[[0. 0. 0.]\n",
            "  [0. 0. 0.]\n",
            "  [0. 0. 0.]]\n",
            "\n",
            " [[0. 0. 0.]\n",
            "  [0. 0. 0.]\n",
            "  [0. 0. 0.]]\n",
            "\n",
            " [[0. 0. 0.]\n",
            "  [0. 0. 0.]\n",
            "  [0. 0. 0.]]]\n",
            "[[[0. 0. 0. 0. 0.]\n",
            "  [0. 0. 0. 0. 0.]\n",
            "  [0. 0. 0. 0. 0.]]\n",
            "\n",
            " [[0. 0. 0. 0. 0.]\n",
            "  [0. 0. 0. 0. 0.]\n",
            "  [0. 0. 0. 0. 0.]]]\n",
            "-------*----------*-----------*---\n",
            "[[[1. 1. 1. 1. 1. 1. 1.]\n",
            "  [1. 1. 1. 1. 1. 1. 1.]]\n",
            "\n",
            " [[1. 1. 1. 1. 1. 1. 1.]\n",
            "  [1. 1. 1. 1. 1. 1. 1.]]]\n",
            "[[[1. 1. 1. 1. 1.]\n",
            "  [1. 1. 1. 1. 1.]\n",
            "  [1. 1. 1. 1. 1.]\n",
            "  [1. 1. 1. 1. 1.]\n",
            "  [1. 1. 1. 1. 1.]]\n",
            "\n",
            " [[1. 1. 1. 1. 1.]\n",
            "  [1. 1. 1. 1. 1.]\n",
            "  [1. 1. 1. 1. 1.]\n",
            "  [1. 1. 1. 1. 1.]\n",
            "  [1. 1. 1. 1. 1.]]]\n",
            "=======================\n",
            "[[[0 1]\n",
            "  [5 6]\n",
            "  [4 3]\n",
            "  [1 0]]\n",
            "\n",
            " [[0 1]\n",
            "  [0 6]\n",
            "  [5 4]\n",
            "  [4 1]]]\n",
            "[[[5 4 4 0]\n",
            "  [3 6 1 4]]\n",
            "\n",
            " [[4 2 0 3]\n",
            "  [4 5 6 6]]]\n"
          ],
          "name": "stdout"
        }
      ]
    },
    {
      "cell_type": "code",
      "metadata": {
        "colab": {
          "base_uri": "https://localhost:8080/"
        },
        "id": "D4LZZ3JjXm5C",
        "outputId": "07e90df5-e8a8-4d19-851c-11e5d8bdbde1"
      },
      "source": [
        "arr10=np.full((2,5,5),11)\n",
        "print(arr10)\n",
        "print('----------------------------')\n",
        "arr11=np.full((3,2,2),71)\n",
        "print(arr11)\n",
        "arr14=np.zeros_like((5,2))\n",
        "print(arr14)\n",
        "print('================================')\n",
        "arr_empty=np.empty((2,3))\n",
        "print(arr_empty)\n",
        "arr12=np.arange(0,16,2.5,dtype=float)\n",
        "print(arr12)\n",
        "arr13=np.linspace(0,16,num=5)   # num은 들어갈 갯수\n",
        "print(arr13)"
      ],
      "execution_count": null,
      "outputs": [
        {
          "output_type": "stream",
          "text": [
            "[[[11 11 11 11 11]\n",
            "  [11 11 11 11 11]\n",
            "  [11 11 11 11 11]\n",
            "  [11 11 11 11 11]\n",
            "  [11 11 11 11 11]]\n",
            "\n",
            " [[11 11 11 11 11]\n",
            "  [11 11 11 11 11]\n",
            "  [11 11 11 11 11]\n",
            "  [11 11 11 11 11]\n",
            "  [11 11 11 11 11]]]\n",
            "----------------------------\n",
            "[[[71 71]\n",
            "  [71 71]]\n",
            "\n",
            " [[71 71]\n",
            "  [71 71]]\n",
            "\n",
            " [[71 71]\n",
            "  [71 71]]]\n",
            "[0 0]\n",
            "================================\n",
            "[[ 2.5  5.   7.5]\n",
            " [10.  12.5 15. ]]\n",
            "[ 0.   2.5  5.   7.5 10.  12.5 15. ]\n",
            "[ 0.  4.  8. 12. 16.]\n"
          ],
          "name": "stdout"
        }
      ]
    },
    {
      "cell_type": "code",
      "metadata": {
        "colab": {
          "base_uri": "https://localhost:8080/"
        },
        "id": "hgiI--4hUKmG",
        "outputId": "7eda28f4-b28e-4325-a192-b08242dfc039"
      },
      "source": [
        "arr15=np.linspace(2,82,10)\n",
        "print(arr15)\n",
        "arr16=np.arange(82,2,-3.7)\n",
        "print(arr16)"
      ],
      "execution_count": null,
      "outputs": [
        {
          "output_type": "stream",
          "text": [
            "[ 2.         10.88888889 19.77777778 28.66666667 37.55555556 46.44444444\n",
            " 55.33333333 64.22222222 73.11111111 82.        ]\n",
            "[82.  78.3 74.6 70.9 67.2 63.5 59.8 56.1 52.4 48.7 45.  41.3 37.6 33.9\n",
            " 30.2 26.5 22.8 19.1 15.4 11.7  8.   4.3]\n"
          ],
          "name": "stdout"
        }
      ]
    },
    {
      "cell_type": "code",
      "metadata": {
        "colab": {
          "base_uri": "https://localhost:8080/"
        },
        "id": "JRfNpEadkyV2",
        "outputId": "9c662a9f-ff08-410a-882a-c6822c811d8d"
      },
      "source": [
        "arr=np.array([2,1,5,3,7,4,6,8])\n",
        "arr=np.sort(arr)\n",
        "print(arr)\n",
        "\n",
        "arr1=np.array([[1,4],[3,1]])\n",
        "arr1=np.sort(arr1,axis=0)\n",
        "print(arr1)\n",
        "\n",
        "arr2=np.array([[1,5,2,3,0],[9,7,8,6,4]])\n",
        "arr2=np.sort(arr2,axis=0)\n",
        "print(arr2)\n",
        "\n",
        "print('---------------')\n",
        "\n",
        "arr3=np.array([[[1,4,20,23,28],[13,8,24,21,5]],[[25,29,26,18,2],[14,27,9,10,3]],[[19,15,11,22,0],[6,16,7,17,12]]])\n",
        "arr3=np.sort(arr3,axis=2)\n",
        "print(arr3)\n"
      ],
      "execution_count": null,
      "outputs": [
        {
          "output_type": "stream",
          "text": [
            "[1 2 3 4 5 6 7 8]\n",
            "[[1 1]\n",
            " [3 4]]\n",
            "[[1 5 2 3 0]\n",
            " [9 7 8 6 4]]\n",
            "---------------\n",
            "[[[ 1  4 20 23 28]\n",
            "  [ 5  8 13 21 24]]\n",
            "\n",
            " [[ 2 18 25 26 29]\n",
            "  [ 3  9 10 14 27]]\n",
            "\n",
            " [[ 0 11 15 19 22]\n",
            "  [ 6  7 12 16 17]]]\n"
          ],
          "name": "stdout"
        }
      ]
    },
    {
      "cell_type": "code",
      "metadata": {
        "colab": {
          "base_uri": "https://localhost:8080/"
        },
        "id": "UNFBlLkomtEi",
        "outputId": "605c125b-2396-408e-ea76-6bdb5f0fceb6"
      },
      "source": [
        "arr4=np.searchsorted([1,2,3,4,5],3)\n",
        "print(arr4)\n",
        "arr5=np.searchsorted([1,2,3,4,5],3,side='right')\n",
        "print(arr5)\n",
        "#들어갈., 인덱스 값 출력 \n",
        "arr6=np.searchsorted([1,2,3,4,5],[-10,10,2,3])\n",
        "print(arr6)\n",
        "#searchsorted == python bisect 이진탐색"
      ],
      "execution_count": null,
      "outputs": [
        {
          "output_type": "stream",
          "text": [
            "2\n",
            "3\n",
            "[0 5 1 2]\n"
          ],
          "name": "stdout"
        }
      ]
    },
    {
      "cell_type": "code",
      "metadata": {
        "colab": {
          "base_uri": "https://localhost:8080/"
        },
        "id": "zgnH1fc4xLKr",
        "outputId": "ed2b1f83-b00c-4686-e08e-e22ba415b9f1"
      },
      "source": [
        "arr7=np.array([1,3,11,4])\n",
        "arr8=np.array([5,6,7,9])\n",
        "arr78=np.concatenate((arr7,arr8))\n",
        "print(arr78)"
      ],
      "execution_count": null,
      "outputs": [
        {
          "output_type": "stream",
          "text": [
            "[ 1  3 11  4  5  6  7  9]\n"
          ],
          "name": "stdout"
        }
      ]
    },
    {
      "cell_type": "code",
      "metadata": {
        "colab": {
          "base_uri": "https://localhost:8080/"
        },
        "id": "C14M3eKjyRPP",
        "outputId": "0af5ec12-3039-44f6-f1b0-4f7ba606c3ed"
      },
      "source": [
        "arr9=np.array([[1,3],[49,4]])\n",
        "arr10=np.array([[7,20],[2,5]])\n",
        "arr90=np.concatenate((arr9,arr10),axis=1)\n",
        "print(arr90)\n",
        "print('-----------')\n",
        "arr11=np.array([[3,5,4],[1,5,4],[2,7,8]])\n",
        "arr12=np.array([[10,11,12],[13,17,18],[14,16,15]])\n",
        "arr112=np.concatenate((arr11,arr12),axis=1)\n",
        "print(arr112)"
      ],
      "execution_count": null,
      "outputs": [
        {
          "output_type": "stream",
          "text": [
            "[[ 1  3  7 20]\n",
            " [49  4  2  5]]\n",
            "-----------\n",
            "[[ 3  5  4 10 11 12]\n",
            " [ 1  5  4 13 17 18]\n",
            " [ 2  7  8 14 16 15]]\n"
          ],
          "name": "stdout"
        }
      ]
    },
    {
      "cell_type": "code",
      "metadata": {
        "id": "Nw2OutE71FHm"
      },
      "source": [
        ""
      ],
      "execution_count": null,
      "outputs": []
    }
  ]
}